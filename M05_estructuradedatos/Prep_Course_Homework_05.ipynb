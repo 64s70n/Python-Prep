{
  "cells": [
    {
      "cell_type": "markdown",
      "metadata": {
        "id": "p4j1cv4gOvoe"
      },
      "source": [
        "## Estructuras de Datos"
      ]
    },
    {
      "cell_type": "markdown",
      "metadata": {
        "id": "DkMg0wIVOvoi"
      },
      "source": [
        "1) Crear una lista que contenga nombres de ciudades del mundo que contenga más de 5 elementos e imprimir por pantalla"
      ]
    },
    {
      "cell_type": "code",
      "execution_count": 21,
      "metadata": {
        "id": "LLAz3LhKOvok",
        "outputId": "882076df-aa81-4365-bbb8-c2759c95ce4d",
        "colab": {
          "base_uri": "https://localhost:8080/"
        }
      },
      "outputs": [
        {
          "output_type": "stream",
          "name": "stdout",
          "text": [
            "['italia', 'mexico', 'Resp. Checa', 'Argentina', 'brasil']\n"
          ]
        }
      ],
      "source": [
        "paises = ['italia', 'mexico', 'Resp. Checa', 'Argentina', 'brasil']\n",
        "print(paises)"
      ]
    },
    {
      "cell_type": "markdown",
      "metadata": {
        "id": "s0XLhjaoOvol"
      },
      "source": [
        "2) Imprimir por pantalla el segundo elemento de la lista"
      ]
    },
    {
      "cell_type": "code",
      "execution_count": 22,
      "metadata": {
        "id": "qpVGI96zOvom",
        "outputId": "79e98b30-af6f-4628-d45e-b579ac29f5ac",
        "colab": {
          "base_uri": "https://localhost:8080/"
        }
      },
      "outputs": [
        {
          "output_type": "stream",
          "name": "stdout",
          "text": [
            "mexico\n"
          ]
        }
      ],
      "source": [
        "print(paises [1])"
      ]
    },
    {
      "cell_type": "markdown",
      "metadata": {
        "id": "mcXi5i1YOvom"
      },
      "source": [
        "3) Imprimir por pantalla del segundo al cuarto elemento"
      ]
    },
    {
      "cell_type": "code",
      "execution_count": 23,
      "metadata": {
        "id": "hLmd07f4Ovon",
        "outputId": "e62ec36b-ec70-4dc2-b43d-70b02b6b8b28",
        "colab": {
          "base_uri": "https://localhost:8080/"
        }
      },
      "outputs": [
        {
          "output_type": "stream",
          "name": "stdout",
          "text": [
            "['mexico', 'Resp. Checa', 'Argentina']\n"
          ]
        }
      ],
      "source": [
        "print(paises [1:4])"
      ]
    },
    {
      "cell_type": "markdown",
      "metadata": {
        "id": "HhSsBIQxOvon"
      },
      "source": [
        "4) Visualizar el tipo de dato de la lista"
      ]
    },
    {
      "cell_type": "code",
      "execution_count": 24,
      "metadata": {
        "id": "exDLUl98Ovoo",
        "outputId": "20a2a1d3-542b-45d8-8cc3-cd3956a5dfcc",
        "colab": {
          "base_uri": "https://localhost:8080/"
        }
      },
      "outputs": [
        {
          "output_type": "stream",
          "name": "stdout",
          "text": [
            "<class 'list'>\n"
          ]
        }
      ],
      "source": [
        "print(type(paises))"
      ]
    },
    {
      "cell_type": "markdown",
      "metadata": {
        "id": "vcmaPYRrOvoo"
      },
      "source": [
        "5) Visualizar todos los elementos de la lista a partir del tercero de manera genérica, es decir, sin explicitar la posición del último elemento"
      ]
    },
    {
      "cell_type": "code",
      "execution_count": 25,
      "metadata": {
        "id": "dSkbKky-Ovop",
        "outputId": "530d3981-8179-4705-8729-56ddef006504",
        "colab": {
          "base_uri": "https://localhost:8080/"
        }
      },
      "outputs": [
        {
          "output_type": "stream",
          "name": "stdout",
          "text": [
            "['Resp. Checa', 'Argentina', 'brasil']\n"
          ]
        }
      ],
      "source": [
        "print(paises[2:])"
      ]
    },
    {
      "cell_type": "markdown",
      "metadata": {
        "id": "hhYbHjv6Ovop"
      },
      "source": [
        "6) Visualizar los primeros 4 elementos de la lista"
      ]
    },
    {
      "cell_type": "code",
      "execution_count": 26,
      "metadata": {
        "id": "LUVBKdMYOvoq",
        "outputId": "f69b73f9-baa9-4386-f3c9-9d4e8938ac5a",
        "colab": {
          "base_uri": "https://localhost:8080/"
        }
      },
      "outputs": [
        {
          "output_type": "stream",
          "name": "stdout",
          "text": [
            "['italia', 'mexico', 'Resp. Checa', 'Argentina']\n"
          ]
        }
      ],
      "source": [
        "print(paises[:4])"
      ]
    },
    {
      "cell_type": "markdown",
      "metadata": {
        "id": "bNDn5uZTOvoq"
      },
      "source": [
        "7) Agregar una ciudad más a la lista que ya exista y otra que no ¿Arroja algún tipo de error?"
      ]
    },
    {
      "cell_type": "code",
      "execution_count": 27,
      "metadata": {
        "id": "pEKkn59XOvor",
        "outputId": "283c762d-961d-48cc-d76c-0d681e0d2e50",
        "colab": {
          "base_uri": "https://localhost:8080/"
        }
      },
      "outputs": [
        {
          "output_type": "stream",
          "name": "stdout",
          "text": [
            "['italia', 'mexico', 'Resp. Checa', 'Argentina', 'brasil', 'Portugal', 'mexico']\n"
          ]
        }
      ],
      "source": [
        "paises.append('Portugal')\n",
        "paises.append('mexico')\n",
        "print(paises)"
      ]
    },
    {
      "cell_type": "markdown",
      "metadata": {
        "id": "56rYwT2VOvor"
      },
      "source": [
        "8) Agregar otra ciudad, pero en la cuarta posición"
      ]
    },
    {
      "cell_type": "code",
      "execution_count": 28,
      "metadata": {
        "id": "WJ5b1tFBOvor",
        "outputId": "7a6c4944-4c4d-40b4-92f3-91a69d648f91",
        "colab": {
          "base_uri": "https://localhost:8080/"
        }
      },
      "outputs": [
        {
          "output_type": "stream",
          "name": "stdout",
          "text": [
            "['italia', 'mexico', 'Resp. Checa', 'españa', 'Argentina', 'brasil', 'Portugal', 'mexico']\n"
          ]
        }
      ],
      "source": [
        "paises.insert(3,'españa')\n",
        "print(paises)"
      ]
    },
    {
      "cell_type": "markdown",
      "metadata": {
        "id": "4i3qo9WUOvor"
      },
      "source": [
        "9) Concatenar otra lista a la ya creada"
      ]
    },
    {
      "cell_type": "code",
      "execution_count": 33,
      "metadata": {
        "id": "tEo1izD8Ovos",
        "outputId": "4fc0b2c7-846d-4e48-fd0f-24357ec39a8e",
        "colab": {
          "base_uri": "https://localhost:8080/"
        }
      },
      "outputs": [
        {
          "output_type": "stream",
          "name": "stdout",
          "text": [
            "['italia', 'mexico', 'Resp. Checa', 'españa', 'Argentina', 'brasil', 'Portugal', 'mexico', 'Lisboa', 'Rio de Janeiro', 'Estambul']\n"
          ]
        }
      ],
      "source": [
        "paises.extend(['Lisboa','Rio de Janeiro','Estambul'])\n",
        "print(paises)\n",
        "\n"
      ]
    },
    {
      "cell_type": "markdown",
      "metadata": {
        "id": "vCQRaCTHOvos"
      },
      "source": [
        "10) Encontrar el índice de la ciudad que en el punto 7 agregamos duplicada. ¿Se nota alguna particularidad?"
      ]
    },
    {
      "cell_type": "code",
      "execution_count": 35,
      "metadata": {
        "id": "aI5L-psROvos",
        "outputId": "a0263336-50b7-4aba-95e3-317515ad3c8b",
        "colab": {
          "base_uri": "https://localhost:8080/"
        }
      },
      "outputs": [
        {
          "output_type": "stream",
          "name": "stdout",
          "text": [
            "1\n"
          ]
        }
      ],
      "source": [
        "print(paises.index('mexico'))"
      ]
    },
    {
      "cell_type": "markdown",
      "metadata": {
        "id": "HRdcbIQyOvos"
      },
      "source": [
        "11) ¿Qué pasa si se busca un elemento que no existe?"
      ]
    },
    {
      "cell_type": "code",
      "execution_count": 36,
      "metadata": {
        "id": "6guzsl5YOvot",
        "outputId": "a6ab5eca-569a-4e30-ab81-ee46c40f0307",
        "colab": {
          "base_uri": "https://localhost:8080/",
          "height": 175
        }
      },
      "outputs": [
        {
          "output_type": "error",
          "ename": "ValueError",
          "evalue": "ignored",
          "traceback": [
            "\u001b[0;31m---------------------------------------------------------------------------\u001b[0m",
            "\u001b[0;31mValueError\u001b[0m                                Traceback (most recent call last)",
            "\u001b[0;32m<ipython-input-36-ce7ba92dc089>\u001b[0m in \u001b[0;36m<cell line: 1>\u001b[0;34m()\u001b[0m\n\u001b[0;32m----> 1\u001b[0;31m \u001b[0mprint\u001b[0m\u001b[0;34m(\u001b[0m\u001b[0mpaises\u001b[0m\u001b[0;34m.\u001b[0m\u001b[0mindex\u001b[0m\u001b[0;34m(\u001b[0m\u001b[0;34m'Miami'\u001b[0m\u001b[0;34m)\u001b[0m\u001b[0;34m)\u001b[0m\u001b[0;34m\u001b[0m\u001b[0;34m\u001b[0m\u001b[0m\n\u001b[0m",
            "\u001b[0;31mValueError\u001b[0m: 'Miami' is not in list"
          ]
        }
      ],
      "source": [
        "print(paises.index('Miami'))"
      ]
    },
    {
      "cell_type": "markdown",
      "metadata": {
        "id": "soUpw7PlOvot"
      },
      "source": [
        "12) Eliminar un elemento de la lista"
      ]
    },
    {
      "cell_type": "code",
      "execution_count": 39,
      "metadata": {
        "id": "AGge_mGoOvou",
        "outputId": "1fcef69f-5704-42d1-e429-08c1758ed20a",
        "colab": {
          "base_uri": "https://localhost:8080/"
        }
      },
      "outputs": [
        {
          "output_type": "stream",
          "name": "stdout",
          "text": [
            "['italia', 'mexico', 'Resp. Checa', 'españa', 'brasil', 'Portugal', 'mexico', 'Lisboa', 'Rio de Janeiro', 'Estambul']\n"
          ]
        }
      ],
      "source": [
        "paises.remove('Argentina')\n",
        "print(paises)\n",
        "\n"
      ]
    },
    {
      "cell_type": "markdown",
      "metadata": {
        "id": "dX_HYO0GOvow"
      },
      "source": [
        "13) ¿Qué pasa si el elemento a eliminar no existe?"
      ]
    },
    {
      "cell_type": "code",
      "execution_count": 40,
      "metadata": {
        "id": "DdW2KYP8Ovow",
        "outputId": "7f45583c-b4ea-4084-bff2-e46dc6d95bbc",
        "colab": {
          "base_uri": "https://localhost:8080/",
          "height": 175
        }
      },
      "outputs": [
        {
          "output_type": "error",
          "ename": "ValueError",
          "evalue": "ignored",
          "traceback": [
            "\u001b[0;31m---------------------------------------------------------------------------\u001b[0m",
            "\u001b[0;31mValueError\u001b[0m                                Traceback (most recent call last)",
            "\u001b[0;32m<ipython-input-40-0b20a6f751d7>\u001b[0m in \u001b[0;36m<cell line: 1>\u001b[0;34m()\u001b[0m\n\u001b[0;32m----> 1\u001b[0;31m \u001b[0mpaises\u001b[0m\u001b[0;34m.\u001b[0m\u001b[0mremove\u001b[0m\u001b[0;34m(\u001b[0m\u001b[0;34m'Argentina'\u001b[0m\u001b[0;34m)\u001b[0m\u001b[0;34m\u001b[0m\u001b[0;34m\u001b[0m\u001b[0m\n\u001b[0m",
            "\u001b[0;31mValueError\u001b[0m: list.remove(x): x not in list"
          ]
        }
      ],
      "source": [
        "paises.remove('Argentina')"
      ]
    },
    {
      "cell_type": "markdown",
      "metadata": {
        "id": "EMApY3NxOvox"
      },
      "source": [
        "14) Extraer el úlimo elemento de la lista, guardarlo en una variable e imprimirlo"
      ]
    },
    {
      "cell_type": "code",
      "execution_count": 41,
      "metadata": {
        "id": "EuhqHhkOOvox",
        "outputId": "926fd343-e2c3-4181-c5ab-abafef2aa9d8",
        "colab": {
          "base_uri": "https://localhost:8080/"
        }
      },
      "outputs": [
        {
          "output_type": "stream",
          "name": "stdout",
          "text": [
            "Estambul\n"
          ]
        }
      ],
      "source": [
        "ultimo = paises.pop()\n",
        "print(ultimo)"
      ]
    },
    {
      "cell_type": "markdown",
      "metadata": {
        "id": "8pTju-GUOvoy"
      },
      "source": [
        "15) Mostrar la lista multiplicada por 4"
      ]
    },
    {
      "cell_type": "code",
      "execution_count": 42,
      "metadata": {
        "id": "JoaecgtGOvoy",
        "outputId": "5cfb3d01-272e-4358-88a7-383169ba1f56",
        "colab": {
          "base_uri": "https://localhost:8080/"
        }
      },
      "outputs": [
        {
          "output_type": "stream",
          "name": "stdout",
          "text": [
            "['italia', 'mexico', 'Resp. Checa', 'españa', 'brasil', 'Portugal', 'mexico', 'Lisboa', 'Rio de Janeiro', 'italia', 'mexico', 'Resp. Checa', 'españa', 'brasil', 'Portugal', 'mexico', 'Lisboa', 'Rio de Janeiro', 'italia', 'mexico', 'Resp. Checa', 'españa', 'brasil', 'Portugal', 'mexico', 'Lisboa', 'Rio de Janeiro', 'italia', 'mexico', 'Resp. Checa', 'españa', 'brasil', 'Portugal', 'mexico', 'Lisboa', 'Rio de Janeiro']\n"
          ]
        }
      ],
      "source": [
        "print(paises*4)"
      ]
    },
    {
      "cell_type": "markdown",
      "metadata": {
        "id": "pPMuhkMeOvoy"
      },
      "source": [
        "16) Crear una tupla que contenga los números enteros del 1 al 20"
      ]
    },
    {
      "cell_type": "code",
      "execution_count": 43,
      "metadata": {
        "id": "oWY2xan3Ovoz",
        "outputId": "03e19316-e445-43e1-fc8c-862bba60134b",
        "colab": {
          "base_uri": "https://localhost:8080/"
        }
      },
      "outputs": [
        {
          "output_type": "stream",
          "name": "stdout",
          "text": [
            "<class 'tuple'>\n",
            "(1, 2, 3, 4, 5, 6, 7, 8, 9, 10, 11, 12, 13, 14, 15, 16, 17, 18, 19, 20)\n"
          ]
        }
      ],
      "source": [
        "tu = (1,2,3,4,5,6,7,8,9,10,11,12,13,14,15,16,17,18,19,20)\n",
        "print(type(tu))\n",
        "print(tu)"
      ]
    },
    {
      "cell_type": "markdown",
      "metadata": {
        "id": "GgpGN1WNOvoz"
      },
      "source": [
        "17) Imprimir desde el índice 10 al 15 de la tupla"
      ]
    },
    {
      "cell_type": "code",
      "execution_count": 45,
      "metadata": {
        "id": "4AvzngrFOvoz",
        "outputId": "e2b97f6d-c2cf-4543-934c-f3d0cde06582",
        "colab": {
          "base_uri": "https://localhost:8080/"
        }
      },
      "outputs": [
        {
          "output_type": "stream",
          "name": "stdout",
          "text": [
            "(11, 12, 13, 14, 15, 16)\n"
          ]
        }
      ],
      "source": [
        "print(tu[10:16])"
      ]
    },
    {
      "cell_type": "markdown",
      "metadata": {
        "id": "VGGLkIu4Ovo0"
      },
      "source": [
        "18) Evaluar si los números 20 y 30 están dentro de la tupla"
      ]
    },
    {
      "cell_type": "code",
      "execution_count": 46,
      "metadata": {
        "id": "lEmYUG7nOvo0",
        "outputId": "7ab4c1b6-95af-4c37-8586-a916d548b1c7",
        "colab": {
          "base_uri": "https://localhost:8080/"
        }
      },
      "outputs": [
        {
          "output_type": "stream",
          "name": "stdout",
          "text": [
            "True\n",
            "False\n"
          ]
        }
      ],
      "source": [
        "print(20 in tu)\n",
        "print(30 in tu)"
      ]
    },
    {
      "cell_type": "markdown",
      "metadata": {
        "id": "ERCBTRo3Ovo0"
      },
      "source": [
        "19) Con la lista creada en el punto 1, validar la existencia del elemento 'París' y si no existe, agregarlo. Utilizar una variable e informar lo sucedido."
      ]
    },
    {
      "cell_type": "code",
      "execution_count": 53,
      "metadata": {
        "id": "3-jYDGZkOvo1",
        "outputId": "ac8a1ecc-f510-4d36-e79e-1e7198792916",
        "colab": {
          "base_uri": "https://localhost:8080/"
        }
      },
      "outputs": [
        {
          "output_type": "stream",
          "name": "stdout",
          "text": [
            "Se insertó el elemento París\n"
          ]
        }
      ],
      "source": [
        "v = 'París'\n",
        "if (not(v in paises)):\n",
        "    paises.append(v)\n",
        "    print('Se insertó el elemento', v)\n",
        "else:\n",
        "    print('El elemento', v, 'ya existía')"
      ]
    },
    {
      "cell_type": "markdown",
      "metadata": {
        "id": "M-rWBNi1OvpD"
      },
      "source": [
        "20) Mostrar la cantidad de veces que se encuentra un elemento específico dentro de la tupla y de la lista"
      ]
    },
    {
      "cell_type": "code",
      "execution_count": 57,
      "metadata": {
        "id": "U7GLgEziOvpD",
        "outputId": "7cf30b07-17d9-4528-de12-4a5cdecafa5d",
        "colab": {
          "base_uri": "https://localhost:8080/"
        }
      },
      "outputs": [
        {
          "output_type": "stream",
          "name": "stdout",
          "text": [
            "2\n"
          ]
        }
      ],
      "source": [
        "print(paises.count('mexico'))"
      ]
    },
    {
      "cell_type": "markdown",
      "metadata": {
        "id": "3CjvkRUPOvpE"
      },
      "source": [
        "21) Convertir la tupla en una lista"
      ]
    },
    {
      "cell_type": "code",
      "execution_count": 61,
      "metadata": {
        "id": "Tkc9cxfdOvpE",
        "outputId": "f5a9f571-82ca-4101-93ae-61ae741288d0",
        "colab": {
          "base_uri": "https://localhost:8080/"
        }
      },
      "outputs": [
        {
          "output_type": "stream",
          "name": "stdout",
          "text": [
            "[1, 2, 3, 4, 5, 6, 7, 8, 9, 10, 11, 12, 13, 14, 15, 16, 17, 18, 19, 20]\n"
          ]
        }
      ],
      "source": [
        "tu2=list(tu)\n",
        "print(tu2)"
      ]
    },
    {
      "cell_type": "markdown",
      "metadata": {
        "id": "2UiIrQ5SOvpE"
      },
      "source": [
        "22) Desempaquetar solo los primeros 3 elementos de la tupla en 3 variables"
      ]
    },
    {
      "cell_type": "code",
      "execution_count": 64,
      "metadata": {
        "id": "6liMMhOjOvpF",
        "outputId": "a4003ef1-c496-4859-c6f3-416cd0f517ea",
        "colab": {
          "base_uri": "https://localhost:8080/"
        }
      },
      "outputs": [
        {
          "output_type": "stream",
          "name": "stdout",
          "text": [
            "1\n",
            "2\n",
            "3\n"
          ]
        }
      ],
      "source": [
        "z1,z2,z3,_,_,_,_,_,_,_,_,_,_,_,_,_,_,_,_,_=tu2\n",
        "print(z1)\n",
        "print(z2)\n",
        "print(z3)"
      ]
    },
    {
      "cell_type": "markdown",
      "metadata": {
        "id": "GBbC8CZwOvpF"
      },
      "source": [
        "23) Crear un diccionario utilizando la lista crada en el punto 1, asignandole la clave \"ciudad\". Agregar tambien otras claves, como puede ser \"Pais\" y \"Continente\"."
      ]
    },
    {
      "cell_type": "code",
      "execution_count": 68,
      "metadata": {
        "id": "mfINaLAFOvpG"
      },
      "outputs": [],
      "source": [
        "di1 = {  'Pais': paises,\n",
        "'Ciudad': ['Bari','Pto. Escondido','Praga','Paraná','Rio de Janeiro','Lisboa','CDMX'],\n",
        "'Continente' : ['Europa','América','Europa','América','América','Europa','América']}\n",
        "\n"
      ]
    },
    {
      "cell_type": "code",
      "source": [
        "print(di1)"
      ],
      "metadata": {
        "id": "uJ49zEVCbU9b",
        "outputId": "4cec9142-c850-4cfc-e5a2-40018cccc05a",
        "colab": {
          "base_uri": "https://localhost:8080/"
        }
      },
      "execution_count": 69,
      "outputs": [
        {
          "output_type": "stream",
          "name": "stdout",
          "text": [
            "{'Pais': ['italia', 'mexico', 'Resp. Checa', 'españa', 'brasil', 'Portugal', 'mexico', 'Lisboa', 'Rio de Janeiro', 'París'], 'Ciudad': ['Bari', 'Pto. Escondido', 'Praga', 'Paraná', 'Rio de Janeiro', 'Lisboa', 'CDMX'], 'Continente': ['Europa', 'América', 'Europa', 'América', 'América', 'Europa', 'América']}\n"
          ]
        }
      ]
    },
    {
      "cell_type": "markdown",
      "metadata": {
        "id": "O-OuKqqHOvpG"
      },
      "source": [
        "24) Imprimir las claves del diccionario"
      ]
    },
    {
      "cell_type": "code",
      "execution_count": 70,
      "metadata": {
        "id": "1-l5UJdoOvpH",
        "outputId": "ccb466c2-66ad-4bfc-86ab-49d2f2d090c6",
        "colab": {
          "base_uri": "https://localhost:8080/"
        }
      },
      "outputs": [
        {
          "output_type": "stream",
          "name": "stdout",
          "text": [
            "dict_keys(['Pais', 'Ciudad', 'Continente'])\n"
          ]
        }
      ],
      "source": [
        "print(di1.keys())"
      ]
    },
    {
      "cell_type": "markdown",
      "metadata": {
        "id": "kQS0cl2XOvpH"
      },
      "source": [
        "25) Imprimir las ciudades a través de su clave"
      ]
    },
    {
      "cell_type": "code",
      "execution_count": 71,
      "metadata": {
        "id": "HozpHyqNOvpI",
        "outputId": "7b27a60c-3c1e-4f28-d369-f9e242b2524c",
        "colab": {
          "base_uri": "https://localhost:8080/"
        }
      },
      "outputs": [
        {
          "output_type": "stream",
          "name": "stdout",
          "text": [
            "['Bari', 'Pto. Escondido', 'Praga', 'Paraná', 'Rio de Janeiro', 'Lisboa', 'CDMX']\n"
          ]
        }
      ],
      "source": [
        "print(di1['Ciudad'])"
      ]
    }
  ],
  "metadata": {
    "interpreter": {
      "hash": "c85384e4cb51c8b72350f3a8712cc8351fdc3955e32a27f9b60c6242ab125f01"
    },
    "kernelspec": {
      "display_name": "Python 3 (ipykernel)",
      "language": "python",
      "name": "python3"
    },
    "language_info": {
      "codemirror_mode": {
        "name": "ipython",
        "version": 3
      },
      "file_extension": ".py",
      "mimetype": "text/x-python",
      "name": "python",
      "nbconvert_exporter": "python",
      "pygments_lexer": "ipython3",
      "version": "3.9.7"
    },
    "colab": {
      "provenance": []
    }
  },
  "nbformat": 4,
  "nbformat_minor": 0
}