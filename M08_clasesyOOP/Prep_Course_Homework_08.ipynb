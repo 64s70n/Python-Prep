{
  "cells": [
    {
      "cell_type": "markdown",
      "metadata": {
        "id": "QsivxH-jHl9q"
      },
      "source": [
        "## Clases y Programación Orientada a Objetos"
      ]
    },
    {
      "cell_type": "markdown",
      "metadata": {
        "id": "BC6H725rHl9x"
      },
      "source": [
        "1) Crear la clase vehículo que contenga los atributos:<br>\n",
        "Color<br>\n",
        "Si es moto, auto, camioneta ó camión<br>\n",
        "Cilindrada del motor"
      ]
    },
    {
      "cell_type": "code",
      "execution_count": 2,
      "metadata": {
        "id": "EXrytpSBHl9z"
      },
      "outputs": [],
      "source": [
        "\n",
        "  class Vehiculo:\n",
        "    def __init__(self, color, tipo, cilindrada):\n",
        "        self.color = color\n",
        "        self.tipo = tipo\n",
        "        self.cilindrada = cilindrada"
      ]
    },
    {
      "cell_type": "markdown",
      "metadata": {
        "id": "MjURNQakHl90"
      },
      "source": [
        "2) A la clase Vehiculo creada en el punto 1, agregar los siguientes métodos:<br>\n",
        "Acelerar<br>\n",
        "Frenar<br>\n",
        "Doblar<br>"
      ]
    },
    {
      "cell_type": "code",
      "execution_count": 9,
      "metadata": {
        "id": "7reo1P-qHl90"
      },
      "outputs": [],
      "source": [
        "class Vehiculo:\n",
        "    def __init__(self, color, tipo, cilindrada):\n",
        "        self.color = color\n",
        "        self.tipo = tipo\n",
        "        self.cilindrada = cilindrada\n",
        "        self.velocidad = 0\n",
        "        self.direccion = 0\n",
        "\n",
        "    def Acelerar(self,vel):\n",
        "        velocidad += vel\n",
        "    def Frenar(self,vel):\n",
        "        velocidad -= vel\n",
        "    def Doblar(self,grado):\n",
        "        direccion += grado\n",
        "\n"
      ]
    },
    {
      "cell_type": "markdown",
      "metadata": {
        "id": "W0djmO24Hl91"
      },
      "source": [
        "3) Instanciar 3 objetos de la clase vehículo y ejecutar sus métodos, probar luego el resultado"
      ]
    },
    {
      "cell_type": "code",
      "execution_count": 16,
      "metadata": {
        "id": "s1HKUqzhHl92"
      },
      "outputs": [],
      "source": [
        "v1 = Vehiculo('gris', 'auto', 1600)\n",
        "v2 = Vehiculo('Blanco', 'moto', 50)\n",
        "v3 = Vehiculo('rojo', 'camioneta', 2000)\n",
        "\n"
      ]
    },
    {
      "cell_type": "code",
      "source": [
        "v1.Acelerar(40)\n",
        "v2.Acelerar(50)\n",
        "\n",
        "v1.Frenar(25)\n",
        "\n",
        "v3.doblar(22)\n",
        "v3.doblar(-12)"
      ],
      "metadata": {
        "id": "cz30FRqAFO_5",
        "outputId": "caaaf259-746a-4930-a137-600d1e798958",
        "colab": {
          "base_uri": "https://localhost:8080/",
          "height": 366
        }
      },
      "execution_count": 14,
      "outputs": [
        {
          "output_type": "error",
          "ename": "UnboundLocalError",
          "evalue": "ignored",
          "traceback": [
            "\u001b[0;31m---------------------------------------------------------------------------\u001b[0m",
            "\u001b[0;31mUnboundLocalError\u001b[0m                         Traceback (most recent call last)",
            "\u001b[0;32m<ipython-input-14-049e309f48f0>\u001b[0m in \u001b[0;36m<cell line: 1>\u001b[0;34m()\u001b[0m\n\u001b[0;32m----> 1\u001b[0;31m \u001b[0mv1\u001b[0m\u001b[0;34m.\u001b[0m\u001b[0mAcelerar\u001b[0m\u001b[0;34m(\u001b[0m\u001b[0;36m40\u001b[0m\u001b[0;34m)\u001b[0m\u001b[0;34m\u001b[0m\u001b[0;34m\u001b[0m\u001b[0m\n\u001b[0m\u001b[1;32m      2\u001b[0m \u001b[0mv2\u001b[0m\u001b[0;34m.\u001b[0m\u001b[0mAcelerar\u001b[0m\u001b[0;34m(\u001b[0m\u001b[0;36m50\u001b[0m\u001b[0;34m)\u001b[0m\u001b[0;34m\u001b[0m\u001b[0;34m\u001b[0m\u001b[0m\n\u001b[1;32m      3\u001b[0m \u001b[0;34m\u001b[0m\u001b[0m\n\u001b[1;32m      4\u001b[0m \u001b[0mv1\u001b[0m\u001b[0;34m.\u001b[0m\u001b[0mFrenar\u001b[0m\u001b[0;34m(\u001b[0m\u001b[0;36m25\u001b[0m\u001b[0;34m)\u001b[0m\u001b[0;34m\u001b[0m\u001b[0;34m\u001b[0m\u001b[0m\n\u001b[1;32m      5\u001b[0m \u001b[0;34m\u001b[0m\u001b[0m\n",
            "\u001b[0;32m<ipython-input-9-58f35eba24c8>\u001b[0m in \u001b[0;36mAcelerar\u001b[0;34m(self, vel)\u001b[0m\n\u001b[1;32m      8\u001b[0m \u001b[0;34m\u001b[0m\u001b[0m\n\u001b[1;32m      9\u001b[0m     \u001b[0;32mdef\u001b[0m \u001b[0mAcelerar\u001b[0m\u001b[0;34m(\u001b[0m\u001b[0mself\u001b[0m\u001b[0;34m,\u001b[0m\u001b[0mvel\u001b[0m\u001b[0;34m)\u001b[0m\u001b[0;34m:\u001b[0m\u001b[0;34m\u001b[0m\u001b[0;34m\u001b[0m\u001b[0m\n\u001b[0;32m---> 10\u001b[0;31m         \u001b[0mvelocidad\u001b[0m \u001b[0;34m+=\u001b[0m \u001b[0mvel\u001b[0m\u001b[0;34m\u001b[0m\u001b[0;34m\u001b[0m\u001b[0m\n\u001b[0m\u001b[1;32m     11\u001b[0m     \u001b[0;32mdef\u001b[0m \u001b[0mFrenar\u001b[0m\u001b[0;34m(\u001b[0m\u001b[0mself\u001b[0m\u001b[0;34m,\u001b[0m\u001b[0mvel\u001b[0m\u001b[0;34m)\u001b[0m\u001b[0;34m:\u001b[0m\u001b[0;34m\u001b[0m\u001b[0;34m\u001b[0m\u001b[0m\n\u001b[1;32m     12\u001b[0m         \u001b[0mvelocidad\u001b[0m \u001b[0;34m-=\u001b[0m \u001b[0mvel\u001b[0m\u001b[0;34m\u001b[0m\u001b[0;34m\u001b[0m\u001b[0m\n",
            "\u001b[0;31mUnboundLocalError\u001b[0m: local variable 'velocidad' referenced before assignment"
          ]
        }
      ]
    },
    {
      "cell_type": "markdown",
      "metadata": {
        "id": "Gx4b4_TYHl92"
      },
      "source": [
        "4) Agregar a la clase Vehiculo, un método que muestre su estado, es decir, a que velocidad se encuentra y su dirección. Y otro método que muestre color, tipo y cilindrada"
      ]
    },
    {
      "cell_type": "code",
      "execution_count": 23,
      "metadata": {
        "id": "KdmUDrTdHl93"
      },
      "outputs": [],
      "source": [
        "    class Vehiculo:\n",
        "      def __init__(self, color, tipo, cilindrada):\n",
        "        self.color = color\n",
        "        self.tipo = tipo\n",
        "        self.cilindrada = cilindrada\n",
        "        self.velocidad = 0\n",
        "        self.direccion = 0\n",
        "\n",
        "      def Acelerar(self,vel):\n",
        "        velocidad += vel\n",
        "      def Frenar(self,vel):\n",
        "        velocidad -= vel\n",
        "      def Doblar(self,grado):\n",
        "        direccion += grado\n",
        "      def Estado(self):\n",
        "        print( 'velocidad',self.velocidad, ' -direccion', self.direccion)\n",
        "      def Detalle(self):\n",
        "        print('El vehiculo es', self.tipo, 'de color', self.color, ' de', self.cilindrada, 'litros de cilindrada')"
      ]
    },
    {
      "cell_type": "markdown",
      "metadata": {
        "id": "OFzb8DVXHl94"
      },
      "source": [
        "5) Crear una clase que permita utilizar las funciones creadas en la práctica del módulo 7<br>\n",
        "Verificar Primo<br>\n",
        "Valor modal<br>\n",
        "Conversión grados<br>\n",
        "Factorial<br>"
      ]
    },
    {
      "cell_type": "code",
      "execution_count": null,
      "metadata": {
        "id": "J6WWijT0Hl94"
      },
      "outputs": [],
      "source": []
    },
    {
      "cell_type": "markdown",
      "metadata": {
        "id": "FylMAuqvHl95"
      },
      "source": [
        "6) Probar las funciones incorporadas en la clase del punto 5"
      ]
    },
    {
      "cell_type": "code",
      "execution_count": null,
      "metadata": {
        "id": "pVdLteajHl95"
      },
      "outputs": [],
      "source": []
    },
    {
      "cell_type": "markdown",
      "metadata": {
        "id": "8Al5XaTrHl96"
      },
      "source": [
        "7) Es necesario que la clase creada en el punto 5 contenga una lista, sobre la cual se apliquen las funciones incorporadas"
      ]
    },
    {
      "cell_type": "code",
      "execution_count": null,
      "metadata": {
        "id": "9CRRjSqxHl96"
      },
      "outputs": [],
      "source": []
    },
    {
      "cell_type": "markdown",
      "metadata": {
        "id": "SruKvij7Hl97"
      },
      "source": [
        "8) Crear un archivo .py aparte y ubicar allí la clase generada en el punto anterior. Luego realizar la importación del módulo y probar alguna de sus funciones"
      ]
    },
    {
      "cell_type": "code",
      "execution_count": null,
      "metadata": {
        "id": "omGB4MKeHl98"
      },
      "outputs": [],
      "source": []
    }
  ],
  "metadata": {
    "interpreter": {
      "hash": "c85384e4cb51c8b72350f3a8712cc8351fdc3955e32a27f9b60c6242ab125f01"
    },
    "kernelspec": {
      "display_name": "Python 3 (ipykernel)",
      "language": "python",
      "name": "python3"
    },
    "language_info": {
      "codemirror_mode": {
        "name": "ipython",
        "version": 3
      },
      "file_extension": ".py",
      "mimetype": "text/x-python",
      "name": "python",
      "nbconvert_exporter": "python",
      "pygments_lexer": "ipython3",
      "version": "3.9.7"
    },
    "colab": {
      "provenance": []
    }
  },
  "nbformat": 4,
  "nbformat_minor": 0
}