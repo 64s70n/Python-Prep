{
  "cells": [
    {
      "cell_type": "markdown",
      "metadata": {
        "id": "Hf_q5LIolkvM"
      },
      "source": [
        "## Variables"
      ]
    },
    {
      "cell_type": "markdown",
      "metadata": {
        "id": "QFI9bON-lkvQ"
      },
      "source": [
        "1) Crear una variable que contenga un elemento del conjunto de números enteros y luego imprimir por pantalla"
      ]
    },
    {
      "cell_type": "code",
      "execution_count": 1,
      "metadata": {
        "id": "ZI7kIm8elkvS",
        "outputId": "309cd183-d015-422d-8977-df5afa153578",
        "colab": {
          "base_uri": "https://localhost:8080/"
        }
      },
      "outputs": [
        {
          "output_type": "stream",
          "name": "stdout",
          "text": [
            "15\n"
          ]
        }
      ],
      "source": [
        "g= 15\n",
        "print (g)\n"
      ]
    },
    {
      "cell_type": "markdown",
      "metadata": {
        "id": "6PDbRi3hlkvT"
      },
      "source": [
        "2) Imprimir el tipo de dato de la constante 8.5"
      ]
    },
    {
      "cell_type": "code",
      "execution_count": 2,
      "metadata": {
        "id": "UKF2OzY4lkvT",
        "outputId": "f6ce5960-5b34-4e25-8876-921454aec8fb",
        "colab": {
          "base_uri": "https://localhost:8080/"
        }
      },
      "outputs": [
        {
          "output_type": "execute_result",
          "data": {
            "text/plain": [
              "float"
            ]
          },
          "metadata": {},
          "execution_count": 2
        }
      ],
      "source": [
        "type(8.5)"
      ]
    },
    {
      "cell_type": "markdown",
      "metadata": {
        "id": "Sb1vw6CYlkvT"
      },
      "source": [
        "3) Imprimir el tipo de dato de la variable creada en el punto 1"
      ]
    },
    {
      "cell_type": "code",
      "execution_count": 3,
      "metadata": {
        "id": "RY6ewqGolkvU",
        "outputId": "01f27486-676a-4fc5-f0b9-0893b9cbb3b4",
        "colab": {
          "base_uri": "https://localhost:8080/"
        }
      },
      "outputs": [
        {
          "output_type": "execute_result",
          "data": {
            "text/plain": [
              "int"
            ]
          },
          "metadata": {},
          "execution_count": 3
        }
      ],
      "source": [
        "type(g)"
      ]
    },
    {
      "cell_type": "markdown",
      "metadata": {
        "id": "WX0R0pzglkvU"
      },
      "source": [
        "4) Crear una variable que contenga tu nombre"
      ]
    },
    {
      "cell_type": "code",
      "execution_count": 5,
      "metadata": {
        "id": "x4FUQBCtlkvU",
        "outputId": "5c3a047b-5e5a-4152-f080-ae471d1382bb",
        "colab": {
          "base_uri": "https://localhost:8080/"
        }
      },
      "outputs": [
        {
          "output_type": "stream",
          "name": "stdout",
          "text": [
            "Gastón\n"
          ]
        }
      ],
      "source": [
        "n= 'Gastón'\n",
        "print(n)\n"
      ]
    },
    {
      "cell_type": "markdown",
      "metadata": {
        "id": "2KaqKhGdlkvV"
      },
      "source": [
        "5) Crear una variable que contenga un número complejo"
      ]
    },
    {
      "cell_type": "code",
      "execution_count": 7,
      "metadata": {
        "id": "dhwZRRpblkvW"
      },
      "outputs": [],
      "source": [
        "c= complex(1,5)"
      ]
    },
    {
      "cell_type": "markdown",
      "metadata": {
        "id": "16RI8wHQlkvW"
      },
      "source": [
        "6) Mostrar el tipo de dato de la variable crada en el punto 5"
      ]
    },
    {
      "cell_type": "code",
      "execution_count": 8,
      "metadata": {
        "id": "LAOQ7ImIlkvW",
        "outputId": "06750fdc-3e76-4114-e904-6068f08b456e",
        "colab": {
          "base_uri": "https://localhost:8080/"
        }
      },
      "outputs": [
        {
          "output_type": "stream",
          "name": "stdout",
          "text": [
            "(1+5j)\n"
          ]
        }
      ],
      "source": [
        "print(c)"
      ]
    },
    {
      "cell_type": "markdown",
      "metadata": {
        "id": "fYvBEPuKlkvX"
      },
      "source": [
        "7) Crear una variable que contenga el valor del número Pi redondeado a 4 decimales"
      ]
    },
    {
      "cell_type": "code",
      "execution_count": 10,
      "metadata": {
        "id": "mwEfasotlkvX",
        "outputId": "8de08c0e-712a-4fe5-a7ff-af73c76237ef",
        "colab": {
          "base_uri": "https://localhost:8080/"
        }
      },
      "outputs": [
        {
          "output_type": "stream",
          "name": "stdout",
          "text": [
            "3.1416\n"
          ]
        }
      ],
      "source": [
        "import math\n",
        "\n",
        "numero_pi = round(math.pi, 4)\n",
        "print (numero_pi)"
      ]
    },
    {
      "cell_type": "markdown",
      "metadata": {
        "id": "yQkTqchYlkvX"
      },
      "source": [
        "8) Crear una variable que contenga el valor 'True' y otra que contenga el valor True. ¿Se trata de lo mismo?"
      ]
    },
    {
      "cell_type": "code",
      "execution_count": 11,
      "metadata": {
        "id": "p8v2Dw0clkvX"
      },
      "outputs": [],
      "source": [
        "v1 = True\n",
        "v2 = 'True'"
      ]
    },
    {
      "cell_type": "markdown",
      "metadata": {
        "id": "E7A-BUK5lkvX"
      },
      "source": [
        "9) Imprimir el tipo de dato correspondientes a las variables creadas en el punto 8"
      ]
    },
    {
      "cell_type": "code",
      "execution_count": 13,
      "metadata": {
        "id": "O5LRmBIblkvY",
        "outputId": "595a300b-ecf0-437d-e268-492add4a9420",
        "colab": {
          "base_uri": "https://localhost:8080/"
        }
      },
      "outputs": [
        {
          "output_type": "execute_result",
          "data": {
            "text/plain": [
              "str"
            ]
          },
          "metadata": {},
          "execution_count": 13
        }
      ],
      "source": [
        "type(v1)\n",
        "type(v2)"
      ]
    },
    {
      "cell_type": "markdown",
      "metadata": {
        "id": "0cnbtBK-lkvY"
      },
      "source": [
        "10) Asignar a una variable, la suma de un número entero y otro decimal"
      ]
    },
    {
      "cell_type": "code",
      "execution_count": 14,
      "metadata": {
        "id": "ZLmS9_7GlkvY",
        "outputId": "a57abf17-1b8e-40e8-b8ae-93ab07b12318",
        "colab": {
          "base_uri": "https://localhost:8080/"
        }
      },
      "outputs": [
        {
          "output_type": "stream",
          "name": "stdout",
          "text": [
            "18.1416\n"
          ]
        }
      ],
      "source": [
        "suma=g+numero_pi\n",
        "print(suma)"
      ]
    },
    {
      "cell_type": "markdown",
      "metadata": {
        "id": "MW_Hu4kJlkvZ"
      },
      "source": [
        "11) Realizar una operación de suma de números complejos"
      ]
    },
    {
      "cell_type": "code",
      "execution_count": 15,
      "metadata": {
        "id": "bvWFaCX6lkva",
        "outputId": "d836e202-d34d-49be-edfb-c4f530ba363f",
        "colab": {
          "base_uri": "https://localhost:8080/"
        }
      },
      "outputs": [
        {
          "output_type": "stream",
          "name": "stdout",
          "text": [
            "(2+10j)\n"
          ]
        }
      ],
      "source": [
        "suma_c= c+c\n",
        "print(suma_c)"
      ]
    },
    {
      "cell_type": "markdown",
      "metadata": {
        "id": "Jy5iDjEClkva"
      },
      "source": [
        "12) Realizar una operación de suma de un número real y otro complejo"
      ]
    },
    {
      "cell_type": "code",
      "execution_count": 16,
      "metadata": {
        "id": "BL6R6XAYlkvb",
        "outputId": "2692870e-2c6e-4d87-93eb-c03d8d7dda42",
        "colab": {
          "base_uri": "https://localhost:8080/"
        }
      },
      "outputs": [
        {
          "output_type": "stream",
          "name": "stdout",
          "text": [
            "(16+5j)\n"
          ]
        }
      ],
      "source": [
        "suma3=(g+c)\n",
        "print(suma3)"
      ]
    },
    {
      "cell_type": "markdown",
      "metadata": {
        "id": "JWDFtqpjlkvc"
      },
      "source": [
        "13) Realizar una operación de multiplicación"
      ]
    },
    {
      "cell_type": "code",
      "execution_count": 17,
      "metadata": {
        "id": "AJFTn0zqlkvc",
        "outputId": "14946fc5-d8e3-4d34-cad7-5ad26a95073a",
        "colab": {
          "base_uri": "https://localhost:8080/"
        }
      },
      "outputs": [
        {
          "output_type": "stream",
          "name": "stdout",
          "text": [
            "47.124\n"
          ]
        }
      ],
      "source": [
        "print(g*numero_pi)"
      ]
    },
    {
      "cell_type": "markdown",
      "metadata": {
        "id": "2l9Z10cblkvc"
      },
      "source": [
        "14) Mostrar el resultado de elevar 2 a la octava potencia"
      ]
    },
    {
      "cell_type": "code",
      "execution_count": 18,
      "metadata": {
        "id": "7a7JkeA7lkvc",
        "outputId": "79dace86-e004-4ae6-c3eb-e3202b8e7f2f",
        "colab": {
          "base_uri": "https://localhost:8080/"
        }
      },
      "outputs": [
        {
          "output_type": "stream",
          "name": "stdout",
          "text": [
            "256\n"
          ]
        }
      ],
      "source": [
        "print(2**8)"
      ]
    },
    {
      "cell_type": "markdown",
      "metadata": {
        "id": "9CVlnLVSlkvd"
      },
      "source": [
        "15) Obtener el cociente de la división de 27 entre 4 en una variable y luego mostrarla"
      ]
    },
    {
      "cell_type": "code",
      "execution_count": 19,
      "metadata": {
        "id": "ATAldK-mlkvd",
        "outputId": "9c0bb5ed-2f3c-4a69-f862-2216104c4308",
        "colab": {
          "base_uri": "https://localhost:8080/"
        }
      },
      "outputs": [
        {
          "output_type": "stream",
          "name": "stdout",
          "text": [
            "6.75\n"
          ]
        }
      ],
      "source": [
        "print(27/4)"
      ]
    },
    {
      "cell_type": "markdown",
      "metadata": {
        "id": "iEmRjdr7lkvd"
      },
      "source": [
        "16) De la división anterior solamente mostrar la parte entera"
      ]
    },
    {
      "cell_type": "code",
      "execution_count": 26,
      "metadata": {
        "id": "a2zBhA5zlkve",
        "outputId": "7a3cbaad-ded7-4842-c506-b016d63f212a",
        "colab": {
          "base_uri": "https://localhost:8080/"
        }
      },
      "outputs": [
        {
          "output_type": "stream",
          "name": "stdout",
          "text": [
            "6\n"
          ]
        }
      ],
      "source": [
        "var1=27//4\n",
        "print(var1)"
      ]
    },
    {
      "cell_type": "markdown",
      "metadata": {
        "id": "gRh0z1polkve"
      },
      "source": [
        "17) De la división de 27 entre 4 mostrar solamente el resto"
      ]
    },
    {
      "cell_type": "code",
      "execution_count": 25,
      "metadata": {
        "id": "fn6v5gDWlkve",
        "outputId": "e165f0fc-d0f8-466b-8851-898f9e75f67a",
        "colab": {
          "base_uri": "https://localhost:8080/"
        }
      },
      "outputs": [
        {
          "output_type": "stream",
          "name": "stdout",
          "text": [
            "3\n"
          ]
        }
      ],
      "source": [
        "var2=27%4\n",
        "print(var2)"
      ]
    },
    {
      "cell_type": "markdown",
      "metadata": {
        "id": "IX1HsX0Xlkvf"
      },
      "source": [
        "18) Utilizando como operandos el número 4 y los resultados obtenidos en los puntos 16 y 17. Obtener 27 como resultado"
      ]
    },
    {
      "cell_type": "code",
      "execution_count": 28,
      "metadata": {
        "id": "fumoaFRClkvf",
        "outputId": "040a8fee-650a-4eef-df9b-61628e9a5582",
        "colab": {
          "base_uri": "https://localhost:8080/"
        }
      },
      "outputs": [
        {
          "output_type": "stream",
          "name": "stdout",
          "text": [
            "27\n"
          ]
        }
      ],
      "source": [
        "var3=4*var1+var2\n",
        "print(var3)"
      ]
    },
    {
      "cell_type": "markdown",
      "metadata": {
        "id": "A5g3CIlelkvf"
      },
      "source": [
        "19) Utilizar el operador \"+\" en una operación donde intervengan solo variables alfanuméricas"
      ]
    },
    {
      "cell_type": "code",
      "execution_count": 29,
      "metadata": {
        "id": "edmm10WAlkvf",
        "outputId": "bea483e1-fa45-48ec-e35c-2009b512abba",
        "colab": {
          "base_uri": "https://localhost:8080/"
        }
      },
      "outputs": [
        {
          "output_type": "stream",
          "name": "stdout",
          "text": [
            "gastón genio!\n"
          ]
        }
      ],
      "source": [
        "var4='gastón'\n",
        "var5=' genio!'\n",
        "print ( var4+var5)\n"
      ]
    },
    {
      "cell_type": "markdown",
      "metadata": {
        "id": "o8n2sA1Qlkv5"
      },
      "source": [
        "20) Evaluar si \"2\" es igual a 2. ¿Por qué ocurre eso?"
      ]
    },
    {
      "cell_type": "code",
      "execution_count": 30,
      "metadata": {
        "id": "_on9tBwvlkv5",
        "outputId": "486235b4-8168-4848-82e3-a758337105ee",
        "colab": {
          "base_uri": "https://localhost:8080/"
        }
      },
      "outputs": [
        {
          "output_type": "execute_result",
          "data": {
            "text/plain": [
              "False"
            ]
          },
          "metadata": {},
          "execution_count": 30
        }
      ],
      "source": [
        "var6='2'\n",
        "var7= 2\n",
        "var6==var7"
      ]
    },
    {
      "cell_type": "markdown",
      "metadata": {
        "id": "9-Mq8jcslkv6"
      },
      "source": [
        "21) Utilizar las funciones de cambio de tipo de dato, para que la validación del punto 20 resulte verdadera"
      ]
    },
    {
      "cell_type": "code",
      "execution_count": 34,
      "metadata": {
        "id": "L_Q5OzT1lkv6",
        "outputId": "c232533a-5b90-4289-d95b-37c3e5b0bace",
        "colab": {
          "base_uri": "https://localhost:8080/"
        }
      },
      "outputs": [
        {
          "output_type": "stream",
          "name": "stdout",
          "text": [
            "True\n"
          ]
        }
      ],
      "source": [
        "int(var6)\n",
        "resultado = int(var6) == var7\n",
        "print(resultado)"
      ]
    },
    {
      "cell_type": "markdown",
      "metadata": {
        "id": "sAGjVoEHlkv6"
      },
      "source": [
        "22) ¿Por qué arroja error el siguiente cambio de tipo de datos? a = float('3,8')"
      ]
    },
    {
      "cell_type": "code",
      "execution_count": 35,
      "metadata": {
        "id": "OiHTMx5nlkv7",
        "outputId": "a32f8da3-b2f1-4fac-e697-2528fbd614f4",
        "colab": {
          "base_uri": "https://localhost:8080/"
        }
      },
      "outputs": [
        {
          "output_type": "stream",
          "name": "stdout",
          "text": [
            "3.8\n"
          ]
        }
      ],
      "source": [
        "#el separador de decimales en float es . no , el codigo debería ser\n",
        "a = float('3.8')\n",
        "print(a)"
      ]
    },
    {
      "cell_type": "markdown",
      "metadata": {
        "id": "uqnTieJGlkv7"
      },
      "source": [
        "23) Crear una variable con el valor 3, y utilizar el operador '-=' para modificar su contenido y que de como resultado 2."
      ]
    },
    {
      "cell_type": "code",
      "execution_count": 37,
      "metadata": {
        "id": "hUJ2yLBilkv7",
        "outputId": "069bbca9-8d94-4b4d-dcc7-e326c078f380",
        "colab": {
          "base_uri": "https://localhost:8080/"
        }
      },
      "outputs": [
        {
          "output_type": "stream",
          "name": "stdout",
          "text": [
            "2\n"
          ]
        }
      ],
      "source": [
        "var8 = 3\n",
        "var8 -= 1\n",
        "print(var8)"
      ]
    },
    {
      "cell_type": "markdown",
      "metadata": {
        "id": "Jd1iX4JOlkv7"
      },
      "source": [
        "24) Realizar la operacion 1 << 2 ¿Por qué da ese resultado? ¿Qué es el sistema de numeración binario?"
      ]
    },
    {
      "cell_type": "code",
      "execution_count": 38,
      "metadata": {
        "id": "tfNcah6llkv8",
        "outputId": "08376c53-38b0-4433-e57d-137c0eeb57a7",
        "colab": {
          "base_uri": "https://localhost:8080/"
        }
      },
      "outputs": [
        {
          "output_type": "execute_result",
          "data": {
            "text/plain": [
              "4"
            ]
          },
          "metadata": {},
          "execution_count": 38
        }
      ],
      "source": [
        "1<<2\n",
        "#da ese resultado poruqe muestra un conjunto de segundo orden en un sistema binario. El sistema de numeración binario es un sistema de numeración posicional que utiliza únicamente dos símbolos: 0 y 1."
      ]
    },
    {
      "cell_type": "markdown",
      "metadata": {
        "id": "IL1BnpAalkv8"
      },
      "source": [
        "25) Realizar la operación 2 + '2' ¿Por qué no está permitido? ¿Si los dos operandos serían del mismo tipo, siempre arrojaría el mismo resultado?"
      ]
    },
    {
      "cell_type": "code",
      "execution_count": 41,
      "metadata": {
        "id": "byNks-FTlkv8",
        "outputId": "4d504fdd-bab7-4d11-b98d-ad95bb7eee2d",
        "colab": {
          "base_uri": "https://localhost:8080/"
        }
      },
      "outputs": [
        {
          "output_type": "stream",
          "name": "stdout",
          "text": [
            "4\n"
          ]
        }
      ],
      "source": [
        "#no esta permitido pórque intento sumar una variable int con una str. si realizo la conv de la variable texto el resulado da\n",
        "print(var7+int(var6))"
      ]
    },
    {
      "cell_type": "markdown",
      "metadata": {
        "id": "GxV2OsQUlkv8"
      },
      "source": [
        "26) Realizar una operación válida entre valores de tipo entero y string"
      ]
    },
    {
      "cell_type": "code",
      "execution_count": 42,
      "metadata": {
        "id": "5Q6RQ3fVlkv9",
        "outputId": "b8496885-2f0a-4227-9844-29f4751a5b5e",
        "colab": {
          "base_uri": "https://localhost:8080/"
        }
      },
      "outputs": [
        {
          "output_type": "stream",
          "name": "stdout",
          "text": [
            "El valor es: 5\n"
          ]
        }
      ],
      "source": [
        "var9 = 5\n",
        "var10 = \"El valor es: \"\n",
        "\n",
        "resultado = var10 + str(var9)\n",
        "print(resultado)"
      ]
    }
  ],
  "metadata": {
    "interpreter": {
      "hash": "c85384e4cb51c8b72350f3a8712cc8351fdc3955e32a27f9b60c6242ab125f01"
    },
    "kernelspec": {
      "display_name": "Python 3 (ipykernel)",
      "language": "python",
      "name": "python3"
    },
    "language_info": {
      "codemirror_mode": {
        "name": "ipython",
        "version": 3
      },
      "file_extension": ".py",
      "mimetype": "text/x-python",
      "name": "python",
      "nbconvert_exporter": "python",
      "pygments_lexer": "ipython3",
      "version": "3.10.11"
    },
    "colab": {
      "provenance": []
    }
  },
  "nbformat": 4,
  "nbformat_minor": 0
}