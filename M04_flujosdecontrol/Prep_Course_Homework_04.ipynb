{
  "cells": [
    {
      "cell_type": "markdown",
      "metadata": {
        "id": "LZS1KSZe6Gys"
      },
      "source": [
        "## Flujos de Control"
      ]
    },
    {
      "cell_type": "markdown",
      "metadata": {
        "id": "3dcOQueW6Gyv"
      },
      "source": [
        "1) Crear una variable que contenga un elemento del conjunto de números enteros y luego imprimir por pantalla si es mayor o menor a cero"
      ]
    },
    {
      "cell_type": "code",
      "execution_count": 1,
      "metadata": {
        "colab": {
          "base_uri": "https://localhost:8080/"
        },
        "id": "s1en_8AS6Gyx",
        "outputId": "e79f3c1b-1556-4ef4-9bf3-d8a6e37ab920"
      },
      "outputs": [
        {
          "output_type": "stream",
          "name": "stdout",
          "text": [
            "El número es mayor que cero\n"
          ]
        }
      ],
      "source": [
        "var1 = 5\n",
        "\n",
        "if var1 > 0:\n",
        "    print(\"El número es mayor que cero\")\n",
        "else:\n",
        "    print(\"El número es menor o igual que cero\")\n",
        "\n"
      ]
    },
    {
      "cell_type": "markdown",
      "metadata": {
        "id": "Vua74K5f6Gyz"
      },
      "source": [
        "2) Crear dos variables y un condicional que informe si son del mismo tipo de dato"
      ]
    },
    {
      "cell_type": "code",
      "execution_count": 2,
      "metadata": {
        "colab": {
          "base_uri": "https://localhost:8080/"
        },
        "id": "qLMCyLoJ6Gyz",
        "outputId": "7f48f148-1ad7-42f0-b580-0c6e03caae41"
      },
      "outputs": [
        {
          "output_type": "stream",
          "name": "stdout",
          "text": [
            "Las variables no son del mismo tipo de dato\n"
          ]
        }
      ],
      "source": [
        "var1 = var1\n",
        "var3 = \"Hola\"\n",
        "\n",
        "if type(var1) == type(var3):\n",
        "    print(\"Las variables son del mismo tipo de dato\")\n",
        "else:\n",
        "    print(\"Las variables no son del mismo tipo de dato\")\n"
      ]
    },
    {
      "cell_type": "code",
      "source": [
        "var1 = var1\n",
        "var3 = 31\n",
        "\n",
        "if type(var1) == type(var3):\n",
        "    print(\"Las variables son del mismo tipo de dato\")\n",
        "else:\n",
        "    print(\"Las variables no son del mismo tipo de dato\")\n"
      ],
      "metadata": {
        "colab": {
          "base_uri": "https://localhost:8080/"
        },
        "id": "dtiVKQxh7X6-",
        "outputId": "17827808-f7b5-43dd-8171-fe623a3ace50"
      },
      "execution_count": 3,
      "outputs": [
        {
          "output_type": "stream",
          "name": "stdout",
          "text": [
            "Las variables son del mismo tipo de dato\n"
          ]
        }
      ]
    },
    {
      "cell_type": "markdown",
      "metadata": {
        "id": "LrzUAZN26Gy0"
      },
      "source": [
        "3) Para los valores enteros del 1 al 20, imprimir por pantalla si es par o impar"
      ]
    },
    {
      "cell_type": "code",
      "execution_count": 4,
      "metadata": {
        "colab": {
          "base_uri": "https://localhost:8080/"
        },
        "id": "7NQxKKuo6Gy0",
        "outputId": "6397f9a6-4591-4998-8c12-fac3fa7c1094"
      },
      "outputs": [
        {
          "output_type": "stream",
          "name": "stdout",
          "text": [
            "1 es impar\n",
            "2 es par\n",
            "3 es impar\n",
            "4 es par\n",
            "5 es impar\n",
            "6 es par\n",
            "7 es impar\n",
            "8 es par\n",
            "9 es impar\n",
            "10 es par\n",
            "11 es impar\n",
            "12 es par\n",
            "13 es impar\n",
            "14 es par\n",
            "15 es impar\n",
            "16 es par\n",
            "17 es impar\n",
            "18 es par\n",
            "19 es impar\n",
            "20 es par\n"
          ]
        }
      ],
      "source": [
        "for x in range(1, 21):\n",
        "    if x % 2 == 0:\n",
        "        print(x, \"es par\")\n",
        "    else:\n",
        "        print(x, \"es impar\")\n"
      ]
    },
    {
      "cell_type": "markdown",
      "metadata": {
        "id": "rby4hXgm6Gy0"
      },
      "source": [
        "4) En un ciclo for mostrar para los valores entre 0 y 5 el resultado de elevarlo a la potencia igual a 3"
      ]
    },
    {
      "cell_type": "code",
      "execution_count": 6,
      "metadata": {
        "colab": {
          "base_uri": "https://localhost:8080/"
        },
        "id": "iRL7zjCz6Gy1",
        "outputId": "a1fb19c2-f38a-4837-cbd5-343fcc051c51"
      },
      "outputs": [
        {
          "output_type": "stream",
          "name": "stdout",
          "text": [
            "0\n",
            "1\n",
            "8\n",
            "27\n",
            "64\n",
            "125\n"
          ]
        }
      ],
      "source": [
        "for x in range(0, 6):\n",
        "            print(x**3)\n",
        "\n"
      ]
    },
    {
      "cell_type": "markdown",
      "metadata": {
        "id": "kNF3R_UH6Gy1"
      },
      "source": [
        "5) Crear una variable que contenga un número entero y realizar un ciclo for la misma cantidad de ciclos"
      ]
    },
    {
      "cell_type": "code",
      "execution_count": 8,
      "metadata": {
        "colab": {
          "base_uri": "https://localhost:8080/"
        },
        "id": "gkdoNRY56Gy3",
        "outputId": "844848ad-3246-4cf2-8bb0-c9878c2d1a6a"
      },
      "outputs": [
        {
          "output_type": "stream",
          "name": "stdout",
          "text": [
            "5\n",
            "Ciclo 1\n",
            "Ciclo 2\n",
            "Ciclo 3\n",
            "Ciclo 4\n",
            "Ciclo 5\n"
          ]
        }
      ],
      "source": [
        "print(var1)\n",
        "\n",
        "for i in range(var1):\n",
        "    print(\"Ciclo\", i+1)\n"
      ]
    },
    {
      "cell_type": "markdown",
      "metadata": {
        "id": "wx-r0o-36Gy3"
      },
      "source": [
        "6) Utilizar un ciclo while para realizar el factorial de un número guardado en una variable, sólo si la variable contiene un número entero mayor a 0"
      ]
    },
    {
      "cell_type": "code",
      "execution_count": 10,
      "metadata": {
        "colab": {
          "base_uri": "https://localhost:8080/"
        },
        "id": "43AtABIX6Gy4",
        "outputId": "651c0b4b-a71e-42d4-bc69-15b7a1aabce0"
      },
      "outputs": [
        {
          "output_type": "stream",
          "name": "stdout",
          "text": [
            "120\n"
          ]
        }
      ],
      "source": [
        "var1\n",
        "factorial = 1\n",
        "\n",
        "if type(var1) == int and var1 > 0:\n",
        "    while var1 > 0:\n",
        "        factorial *= var1\n",
        "        var1 -= 1\n",
        "\n",
        "    print(factorial)\n",
        "else:\n",
        "    print(\"El número no es entero o es menor o igual que cero\")"
      ]
    },
    {
      "cell_type": "markdown",
      "metadata": {
        "id": "VLa7DaBD6Gy4"
      },
      "source": [
        "7) Crear un ciclo for dentro de un ciclo while"
      ]
    },
    {
      "cell_type": "code",
      "execution_count": 18,
      "metadata": {
        "colab": {
          "base_uri": "https://localhost:8080/"
        },
        "id": "5tl1NVV06Gy5",
        "outputId": "8dd89640-f8db-4fa1-989d-b4b754b234e1"
      },
      "outputs": [
        {
          "output_type": "stream",
          "name": "stdout",
          "text": [
            "0 0\n",
            "0 1\n",
            "0 2\n",
            "1 0\n",
            "1 1\n",
            "1 2\n",
            "2 0\n",
            "2 1\n",
            "2 2\n"
          ]
        }
      ],
      "source": [
        "i = 0\n",
        "\n",
        "while i < 3:\n",
        "    for j in range(3):\n",
        "        print(i, j)\n",
        "    i += 1\n",
        "\n"
      ]
    },
    {
      "cell_type": "markdown",
      "metadata": {
        "id": "QYWvjvoa6Gy5"
      },
      "source": [
        "8) Crear un ciclo while dentro de un ciclo for"
      ]
    },
    {
      "cell_type": "code",
      "execution_count": 19,
      "metadata": {
        "colab": {
          "base_uri": "https://localhost:8080/"
        },
        "id": "yXBZ1PJx6Gy5",
        "outputId": "0fbb679d-5c0f-4844-8ccb-d1fd11bef151"
      },
      "outputs": [
        {
          "output_type": "stream",
          "name": "stdout",
          "text": [
            "0 0\n",
            "0 1\n",
            "0 2\n",
            "1 0\n",
            "1 1\n",
            "1 2\n",
            "2 0\n",
            "2 1\n",
            "2 2\n"
          ]
        }
      ],
      "source": [
        "for i in range(3):\n",
        "    j = 0\n",
        "    while j < 3:\n",
        "        print(i, j)\n",
        "        j += 1\n"
      ]
    },
    {
      "cell_type": "markdown",
      "metadata": {
        "id": "Ff5r4D2E6Gy5"
      },
      "source": [
        "9) Imprimir los números primos existentes entre 0 y 30"
      ]
    },
    {
      "cell_type": "code",
      "execution_count": 28,
      "metadata": {
        "colab": {
          "base_uri": "https://localhost:8080/"
        },
        "id": "mXg9Zn806Gy6",
        "outputId": "29dbf029-ee0e-4695-9cae-ab9693ae2c2d"
      },
      "outputs": [
        {
          "output_type": "stream",
          "name": "stdout",
          "text": [
            "1\n",
            "2\n",
            "3\n",
            "5\n",
            "7\n",
            "11\n",
            "13\n",
            "17\n",
            "19\n",
            "23\n",
            "29\n"
          ]
        }
      ],
      "source": [
        "for i in range(1, 31):\n",
        "    es_primo = True\n",
        "    j = 2\n",
        "    while j < i:\n",
        "        if i % j == 0:\n",
        "            es_primo = False\n",
        "        j += 1\n",
        "\n",
        "    if es_primo:\n",
        "        print(i)\n"
      ]
    },
    {
      "cell_type": "markdown",
      "metadata": {
        "id": "_6ZGGaal6Gy6"
      },
      "source": [
        "10) ¿Se puede mejorar el proceso del punto 9? Utilizar las sentencias break y/ó continue para tal fin"
      ]
    },
    {
      "cell_type": "code",
      "execution_count": 29,
      "metadata": {
        "colab": {
          "base_uri": "https://localhost:8080/"
        },
        "id": "5u5NaK6Y6Gy6",
        "outputId": "fb12a8a1-6e67-4c09-e039-3513fef1ee61"
      },
      "outputs": [
        {
          "output_type": "stream",
          "name": "stdout",
          "text": [
            "1\n",
            "2\n",
            "3\n",
            "5\n",
            "7\n",
            "11\n",
            "13\n",
            "17\n",
            "19\n",
            "23\n",
            "29\n"
          ]
        }
      ],
      "source": [
        "for i in range(1, 31):\n",
        "    es_primo = True\n",
        "    for j in range(2, i):\n",
        "        if i % j == 0:\n",
        "            es_primo = False\n",
        "            break\n",
        "\n",
        "    if es_primo:\n",
        "        print(i)"
      ]
    },
    {
      "cell_type": "markdown",
      "metadata": {
        "id": "sdHpSXNf6Gy6"
      },
      "source": [
        "11) En los puntos 9 y 10, se diseño un código que encuentra números primos y además se lo optimizó. ¿Es posible saber en qué medida se optimizó?"
      ]
    },
    {
      "cell_type": "code",
      "execution_count": 30,
      "metadata": {
        "colab": {
          "base_uri": "https://localhost:8080/",
          "height": 175
        },
        "id": "Ev_6kjRC6Gy7",
        "outputId": "f1f101dd-c315-4914-dd9b-0d06d3f44bc0"
      },
      "outputs": [
        {
          "output_type": "error",
          "ename": "NameError",
          "evalue": "ignored",
          "traceback": [
            "\u001b[0;31m---------------------------------------------------------------------------\u001b[0m",
            "\u001b[0;31mNameError\u001b[0m                                 Traceback (most recent call last)",
            "\u001b[0;32m<ipython-input-30-79b915f4e442>\u001b[0m in \u001b[0;36m<cell line: 1>\u001b[0;34m()\u001b[0m\n\u001b[0;32m----> 1\u001b[0;31m \u001b[0mO\u001b[0m\u001b[0;34m\u001b[0m\u001b[0;34m\u001b[0m\u001b[0m\n\u001b[0m",
            "\u001b[0;31mNameError\u001b[0m: name 'O' is not defined"
          ]
        }
      ],
      "source": []
    },
    {
      "cell_type": "markdown",
      "metadata": {
        "id": "M3aeVmJ66Gy7"
      },
      "source": [
        "12) Aplicando continue, armar un ciclo while que solo imprima los valores divisibles por 12, dentro del rango de números de 100 a 300"
      ]
    },
    {
      "cell_type": "code",
      "execution_count": 31,
      "metadata": {
        "colab": {
          "base_uri": "https://localhost:8080/"
        },
        "id": "jV0K-cAT6Gy7",
        "outputId": "dbbefb21-0d47-4fe7-df31-4b3661fd966a"
      },
      "outputs": [
        {
          "output_type": "stream",
          "name": "stdout",
          "text": [
            "108\n",
            "120\n",
            "132\n",
            "144\n",
            "156\n",
            "168\n",
            "180\n",
            "192\n",
            "204\n",
            "216\n",
            "228\n",
            "240\n",
            "252\n",
            "264\n",
            "276\n",
            "288\n",
            "300\n"
          ]
        }
      ],
      "source": [
        "i = 100\n",
        "\n",
        "while i <= 300:\n",
        "    if i % 12 != 0:\n",
        "        i += 1\n",
        "        continue\n",
        "\n",
        "    print(i)\n",
        "    i += 1\n"
      ]
    },
    {
      "cell_type": "markdown",
      "metadata": {
        "id": "89Nya_N76Gy7"
      },
      "source": [
        "13) Utilizar la función **input()** que permite hacer ingresos por teclado, para encontrar números primos y dar la opción al usario de buscar el siguiente"
      ]
    },
    {
      "cell_type": "code",
      "execution_count": 32,
      "metadata": {
        "colab": {
          "base_uri": "https://localhost:8080/"
        },
        "id": "wO6lKnjA6Gy7",
        "outputId": "d64d6f14-2afd-4da3-a57d-c3cfe0561d58"
      },
      "outputs": [
        {
          "name": "stdout",
          "output_type": "stream",
          "text": [
            "Ingrese un número entero (o 'salir' para terminar): 5\n",
            "5 es primo\n",
            "Ingrese un número entero (o 'salir' para terminar): 25\n",
            "25 no es primo\n",
            "Ingrese un número entero (o 'salir' para terminar): salir\n"
          ]
        }
      ],
      "source": [
        "def es_primo(numero):\n",
        "    if numero < 2:\n",
        "        return False\n",
        "\n",
        "    for i in range(2, numero):\n",
        "        if numero % i == 0:\n",
        "            return False\n",
        "\n",
        "    return True\n",
        "\n",
        "while True:\n",
        "    entrada = input(\"Ingrese un número entero (o 'salir' para terminar): \")\n",
        "\n",
        "    if entrada == \"salir\":\n",
        "        break\n",
        "\n",
        "    try:\n",
        "        numero = int(entrada)\n",
        "    except ValueError:\n",
        "        print(\"Entrada inválida\")\n",
        "        continue\n",
        "\n",
        "    if es_primo(numero):\n",
        "        print(numero, \"es primo\")\n",
        "    else:\n",
        "        print(numero, \"no es primo\")\n"
      ]
    },
    {
      "cell_type": "markdown",
      "metadata": {
        "id": "PjgAAXJ-6Gy7"
      },
      "source": [
        "14) Crear un ciclo while que encuentre dentro del rango de 100 a 300 el primer número divisible por 3 y además múltiplo de 6"
      ]
    },
    {
      "cell_type": "code",
      "execution_count": 34,
      "metadata": {
        "colab": {
          "base_uri": "https://localhost:8080/"
        },
        "id": "mZBgx8Q_6Gy8",
        "outputId": "39aff4fb-aaab-47fb-b7c4-ee196c4db13e"
      },
      "outputs": [
        {
          "output_type": "stream",
          "name": "stdout",
          "text": [
            "102\n"
          ]
        }
      ],
      "source": [
        "i = 100\n",
        "\n",
        "while i <= 300:\n",
        "    if i % 3 == 0 and i % 6 == 0:\n",
        "        print(i)\n",
        "        break\n",
        "\n",
        "    i += 1"
      ]
    }
  ],
  "metadata": {
    "interpreter": {
      "hash": "c85384e4cb51c8b72350f3a8712cc8351fdc3955e32a27f9b60c6242ab125f01"
    },
    "kernelspec": {
      "display_name": "Python 3 (ipykernel)",
      "language": "python",
      "name": "python3"
    },
    "language_info": {
      "codemirror_mode": {
        "name": "ipython",
        "version": 3
      },
      "file_extension": ".py",
      "mimetype": "text/x-python",
      "name": "python",
      "nbconvert_exporter": "python",
      "pygments_lexer": "ipython3",
      "version": "3.10.6"
    },
    "colab": {
      "provenance": []
    }
  },
  "nbformat": 4,
  "nbformat_minor": 0
}